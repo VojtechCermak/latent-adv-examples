{
 "cells": [
  {
   "cell_type": "markdown",
   "metadata": {},
   "source": [
    "# Convert TF checpoints to PyTorch\n",
    "- models downloaded from https://github.com/MadryLab/mnist_challenge"
   ]
  },
  {
   "cell_type": "code",
   "execution_count": 1,
   "metadata": {},
   "outputs": [],
   "source": [
    "from collections import OrderedDict\n",
    "import tensorflow as tf\n",
    "import torch\n",
    "\n",
    "def get_pytorch_state_dict(path_checkpoint):\n",
    "    model_vars = {}\n",
    "    with tf.Session() as sess:    \n",
    "        saver = tf.train.import_meta_graph(path_checkpoint+'.meta')\n",
    "        saver.restore(sess, path_checkpoint)\n",
    "        trainables = tf.trainable_variables()\n",
    "        for t in trainables:\n",
    "            model_vars[t.name] = sess.run(t.name)\n",
    "\n",
    "    weights = OrderedDict()\n",
    "    weights['conv2d_1'] = torch.Tensor(model_vars['Variable:0']).permute(3, 2, 0, 1)\n",
    "    weights['conv2d_1_bias'] = torch.Tensor(model_vars['Variable_1:0'])\n",
    "    weights['conv2d_2'] = torch.Tensor(model_vars['Variable_2:0']).permute(3, 2, 0, 1)\n",
    "    weights['conv2d_2_bias'] = torch.Tensor(model_vars['Variable_3:0'])\n",
    "    weights['fc_1'] = torch.Tensor(model_vars['Variable_4:0'])\n",
    "    weights['fc_1_bias'] = torch.Tensor(model_vars['Variable_5:0'])\n",
    "    weights['fc_2'] = torch.Tensor(model_vars['Variable_6:0'])\n",
    "    weights['fc_2_bias'] = torch.Tensor(model_vars['Variable_7:0'])\n",
    "    return weights"
   ]
  },
  {
   "cell_type": "code",
   "execution_count": 3,
   "metadata": {},
   "outputs": [
    {
     "name": "stdout",
     "output_type": "stream",
     "text": [
      "INFO:tensorflow:Restoring parameters from checkpoint_natural/checkpoint-24900\n",
      "INFO:tensorflow:Restoring parameters from checkpoint_adv/checkpoint-99900\n"
     ]
    }
   ],
   "source": [
    "natural = r'checkpoint_natural/checkpoint-24900'\n",
    "adv_trained = r'checkpoint_adv/checkpoint-99900'\n",
    "\n",
    "natural_sd = get_pytorch_state_dict(natural)\n",
    "adv_train_sd = get_pytorch_state_dict(adv_trained)\n",
    "\n",
    "torch.save(natural_sd, 'mnist_natural.pth')\n",
    "torch.save(adv_train_sd, 'mnist_adv.pth')"
   ]
  },
  {
   "cell_type": "code",
   "execution_count": null,
   "metadata": {},
   "outputs": [],
   "source": []
  }
 ],
 "metadata": {
  "kernelspec": {
   "display_name": "Python [conda env:ml]",
   "language": "python",
   "name": "conda-env-ml-py"
  },
  "language_info": {
   "codemirror_mode": {
    "name": "ipython",
    "version": 3
   },
   "file_extension": ".py",
   "mimetype": "text/x-python",
   "name": "python",
   "nbconvert_exporter": "python",
   "pygments_lexer": "ipython3",
   "version": "3.7.3"
  }
 },
 "nbformat": 4,
 "nbformat_minor": 2
}
